{
 "cells": [
  {
   "cell_type": "markdown",
   "id": "1a02be7f",
   "metadata": {},
   "source": [
    "# Webscraping S9\n",
    "## Dice\n",
    "## DIA1, A5"
   ]
  },
  {
   "cell_type": "code",
   "execution_count": 1,
   "id": "5058d997",
   "metadata": {},
   "outputs": [],
   "source": [
    "# !pip install beautifulsoup4"
   ]
  },
  {
   "cell_type": "code",
   "execution_count": 1,
   "id": "cea59e12",
   "metadata": {},
   "outputs": [],
   "source": [
    "# !pip install selenium undetected_chromedriver"
   ]
  },
  {
   "cell_type": "code",
   "execution_count": 16,
   "id": "6e79641c",
   "metadata": {},
   "outputs": [],
   "source": [
    "import re \n",
    "import requests\n",
    "import pandas as pd\n",
    "from bs4 import BeautifulSoup\n",
    "from selenium import webdriver\n",
    "from selenium.webdriver.common.by import By\n",
    "from selenium.webdriver.support.ui import WebDriverWait\n",
    "from selenium.webdriver.support import expected_conditions as EC\n",
    "from selenium.common.exceptions import TimeoutException\n",
    "import numpy as np\n",
    "\n",
    "from undetected_chromedriver import Chrome"
   ]
  },
  {
   "cell_type": "markdown",
   "id": "5e53b1d5",
   "metadata": {},
   "source": [
    "## Projet:\n",
    "Scrap the following:  \n",
    "https://dice.fm/browse/paris/music/gig  \n",
    "https://dice.fm/browse/paris/music/party  \n",
    "https://dice.fm/browse/paris/music/dj  \n",
    "\n",
    "On these pages are all the links to the events themselves. I need to first get all those links, and then access every link and scrap the event data."
   ]
  },
  {
   "cell_type": "markdown",
   "id": "d4848561",
   "metadata": {},
   "source": [
    "## Part 1: Scrap links for all events"
   ]
  },
  {
   "cell_type": "code",
   "execution_count": 22,
   "id": "47bd6388",
   "metadata": {},
   "outputs": [],
   "source": [
    "# Initialize the webdriver (in this example, using Chrome)\n",
    "driver = webdriver.Chrome()\n",
    "\n",
    "# Navigate to your website\n",
    "# website_url = 'https://dice.fm/browse/paris/music/gig'\n",
    "# website_url = 'https://dice.fm/browse/paris/music/party'\n",
    "website_url = 'https://dice.fm/browse/paris/music/dj'\n",
    "driver.get(website_url)"
   ]
  },
  {
   "cell_type": "markdown",
   "id": "4320b460",
   "metadata": {},
   "source": [
    "#### Click 'voir plus' button"
   ]
  },
  {
   "cell_type": "code",
   "execution_count": 23,
   "id": "eac2544d",
   "metadata": {},
   "outputs": [
    {
     "name": "stdout",
     "output_type": "stream",
     "text": [
      "No more items to load.\n"
     ]
    }
   ],
   "source": [
    "# Define the button XPaths\n",
    "accept_cookies_button_xpath = '//button[@class=\"ch2-btn ch2-allow-all-btn ch2-btn-primary ch2-btn-text-xxs\"]'\n",
    "load_more_button_xpath = '//div[@class=\"styles__LoadMoreRow-sc-f7f02326-1 ixkwan\"]//button'\n",
    "\n",
    "try:\n",
    "    # Wait for the \"Accept All Cookies\" button to be clickable\n",
    "    accept_cookies_button = WebDriverWait(driver, 10).until(\n",
    "        EC.element_to_be_clickable((By.XPATH, accept_cookies_button_xpath))\n",
    "    )\n",
    "\n",
    "    # Click the \"Accept All Cookies\" button\n",
    "    accept_cookies_button.click()\n",
    "\n",
    "    while True:\n",
    "        # Wait for the \"Load More\" button to be clickable\n",
    "        load_more_button = WebDriverWait(driver, 10).until(\n",
    "            EC.element_to_be_clickable((By.XPATH, load_more_button_xpath))\n",
    "        )\n",
    "\n",
    "        # Click the \"Load More\" button\n",
    "        load_more_button.click()\n",
    "\n",
    "\n",
    "except TimeoutException:\n",
    "    print(\"No more items to load.\")"
   ]
  },
  {
   "cell_type": "code",
   "execution_count": 24,
   "id": "5f68666c",
   "metadata": {
    "scrolled": true
   },
   "outputs": [],
   "source": [
    "page_source = driver.page_source\n",
    "soup = BeautifulSoup(page_source,'html.parser')"
   ]
  },
  {
   "cell_type": "markdown",
   "id": "10e374e0",
   "metadata": {},
   "source": [
    "On récupère le lien de l'événement, le nom, la date, le lieu, le prix (link, title, date, venue, price)"
   ]
  },
  {
   "cell_type": "code",
   "execution_count": 25,
   "id": "3bc8e474",
   "metadata": {},
   "outputs": [],
   "source": [
    "# df_dice = pd.DataFrame([], columns=['title', 'date', 'venue', 'price', 'link'])"
   ]
  },
  {
   "cell_type": "code",
   "execution_count": 26,
   "id": "df59e4a9",
   "metadata": {},
   "outputs": [],
   "source": [
    "# Find all 'EventCard' blocks\n",
    "event_blocks = soup.find_all('div', class_='EventCard__Event-sc-96055878-1 jCnRTS')\n",
    "i=0 \n",
    "    \n",
    "# Iterate through each 'EventCard' block and extract information\n",
    "for event_block in event_blocks:\n",
    "    title_element = event_block.find('div', class_='styles__Title-sc-bcd2794e-6 fLvsjM')\n",
    "    date_element = event_block.find('div', class_='styles__Date-sc-bcd2794e-8 cbhNxH')\n",
    "    venue_element = event_block.find('div', class_='styles__Venue-sc-bcd2794e-7 kJglZg')\n",
    "    price_element = event_block.find('div', class_='styles__Price-sc-bcd2794e-9 kzrFAz')\n",
    "    link_element = event_block.find('a', class_='styles__EventCardLink-sc-bcd2794e-5 hCzsEw')\n",
    "\n",
    "    # Check if the elements are found before accessing their text attributes\n",
    "    if title_element:\n",
    "        title = title_element.text.strip()\n",
    "    else:\n",
    "        title=np.nan\n",
    "        \n",
    "    if date_element:\n",
    "        date = date_element.text.strip()\n",
    "    else:\n",
    "        date=np.nan\n",
    "    \n",
    "    if venue_element:\n",
    "        venue = venue_element.text.strip()\n",
    "    else:\n",
    "        venue=np.nan\n",
    "    \n",
    "    if price_element: \n",
    "        price = price_element.text.strip()\n",
    "    else:\n",
    "        price=np.nan\n",
    "    \n",
    "    if link_element:\n",
    "        link = \"https://dice.fm\" + link_element['href']\n",
    "    else:\n",
    "        link=np.nan\n",
    "\n",
    "    df_dice.loc[len(df_dice)] = [title, date, venue, price, link]\n",
    "    i += 1"
   ]
  },
  {
   "cell_type": "code",
   "execution_count": 27,
   "id": "87acc96a",
   "metadata": {
    "scrolled": true
   },
   "outputs": [
    {
     "data": {
      "text/html": [
       "<div>\n",
       "<style scoped>\n",
       "    .dataframe tbody tr th:only-of-type {\n",
       "        vertical-align: middle;\n",
       "    }\n",
       "\n",
       "    .dataframe tbody tr th {\n",
       "        vertical-align: top;\n",
       "    }\n",
       "\n",
       "    .dataframe thead th {\n",
       "        text-align: right;\n",
       "    }\n",
       "</style>\n",
       "<table border=\"1\" class=\"dataframe\">\n",
       "  <thead>\n",
       "    <tr style=\"text-align: right;\">\n",
       "      <th></th>\n",
       "      <th>title</th>\n",
       "      <th>date</th>\n",
       "      <th>venue</th>\n",
       "      <th>price</th>\n",
       "      <th>link</th>\n",
       "    </tr>\n",
       "  </thead>\n",
       "  <tbody>\n",
       "    <tr>\n",
       "      <th>0</th>\n",
       "      <td>Les Clopes + Scimia + Blank\\\\</td>\n",
       "      <td>jeu. 4 janv.</td>\n",
       "      <td>Supersonic</td>\n",
       "      <td>Gratuit</td>\n",
       "      <td>https://dice.fm/event/qp2ny-les-clopes-scimia-...</td>\n",
       "    </tr>\n",
       "    <tr>\n",
       "      <th>1</th>\n",
       "      <td>Plastic Palms + Clamn Dever + Panty Panty</td>\n",
       "      <td>jeu. 4 janv.</td>\n",
       "      <td>L'international</td>\n",
       "      <td>8 €</td>\n",
       "      <td>https://dice.fm/event/xym5a-plastic-palms-clam...</td>\n",
       "    </tr>\n",
       "    <tr>\n",
       "      <th>2</th>\n",
       "      <td>Simone's Carpet + Lavomatic</td>\n",
       "      <td>ven. 5 janv.</td>\n",
       "      <td>Supersonic</td>\n",
       "      <td>Gratuit</td>\n",
       "      <td>https://dice.fm/event/373kp-simones-carpet-lav...</td>\n",
       "    </tr>\n",
       "    <tr>\n",
       "      <th>3</th>\n",
       "      <td>The Wolf You Feed + Gargantura + Cerbera</td>\n",
       "      <td>ven. 5 janv.</td>\n",
       "      <td>L'international</td>\n",
       "      <td>7 €</td>\n",
       "      <td>https://dice.fm/event/v2wkl-the-wolf-you-feed-...</td>\n",
       "    </tr>\n",
       "    <tr>\n",
       "      <th>4</th>\n",
       "      <td>La nuit des chansons tristes</td>\n",
       "      <td>ven. 5 janv.</td>\n",
       "      <td>Anti Club du Cirque électrique</td>\n",
       "      <td>8 €</td>\n",
       "      <td>https://dice.fm/event/v2vvg-la-nuit-des-chanso...</td>\n",
       "    </tr>\n",
       "  </tbody>\n",
       "</table>\n",
       "</div>"
      ],
      "text/plain": [
       "                                       title          date  \\\n",
       "0              Les Clopes + Scimia + Blank\\\\  jeu. 4 janv.   \n",
       "1  Plastic Palms + Clamn Dever + Panty Panty  jeu. 4 janv.   \n",
       "2                Simone's Carpet + Lavomatic  ven. 5 janv.   \n",
       "3   The Wolf You Feed + Gargantura + Cerbera  ven. 5 janv.   \n",
       "4               La nuit des chansons tristes  ven. 5 janv.   \n",
       "\n",
       "                            venue    price  \\\n",
       "0                      Supersonic  Gratuit   \n",
       "1                 L'international      8 €   \n",
       "2                      Supersonic  Gratuit   \n",
       "3                 L'international      7 €   \n",
       "4  Anti Club du Cirque électrique      8 €   \n",
       "\n",
       "                                                link  \n",
       "0  https://dice.fm/event/qp2ny-les-clopes-scimia-...  \n",
       "1  https://dice.fm/event/xym5a-plastic-palms-clam...  \n",
       "2  https://dice.fm/event/373kp-simones-carpet-lav...  \n",
       "3  https://dice.fm/event/v2wkl-the-wolf-you-feed-...  \n",
       "4  https://dice.fm/event/v2vvg-la-nuit-des-chanso...  "
      ]
     },
     "execution_count": 27,
     "metadata": {},
     "output_type": "execute_result"
    }
   ],
   "source": [
    "df_dice.head()"
   ]
  },
  {
   "cell_type": "code",
   "execution_count": 28,
   "id": "39dc97ba",
   "metadata": {},
   "outputs": [
    {
     "data": {
      "text/plain": [
       "(1754, 5)"
      ]
     },
     "execution_count": 28,
     "metadata": {},
     "output_type": "execute_result"
    }
   ],
   "source": [
    "df_dice.shape"
   ]
  },
  {
   "cell_type": "code",
   "execution_count": 32,
   "id": "adcd30c6",
   "metadata": {},
   "outputs": [
    {
     "data": {
      "text/plain": [
       "title    0\n",
       "date     0\n",
       "venue    0\n",
       "price    5\n",
       "link     0\n",
       "dtype: int64"
      ]
     },
     "execution_count": 32,
     "metadata": {},
     "output_type": "execute_result"
    }
   ],
   "source": [
    "df_dice.isnull().sum()"
   ]
  },
  {
   "cell_type": "code",
   "execution_count": 31,
   "id": "ef311a6a",
   "metadata": {},
   "outputs": [],
   "source": [
    "# df_dice.to_csv('df_dice_1stPART-WebScraping_S9.csv')"
   ]
  },
  {
   "cell_type": "code",
   "execution_count": 3,
   "id": "848a01c1",
   "metadata": {},
   "outputs": [],
   "source": [
    "# df_dice=pd.read_csv(r'df_dice_1stPART-WebScraping_S9.csv')\n",
    "# df_dice = df_dice.drop(columns=['Unnamed: 0'])"
   ]
  },
  {
   "cell_type": "code",
   "execution_count": 9,
   "id": "e204ad24",
   "metadata": {},
   "outputs": [
    {
     "data": {
      "text/html": [
       "<div>\n",
       "<style scoped>\n",
       "    .dataframe tbody tr th:only-of-type {\n",
       "        vertical-align: middle;\n",
       "    }\n",
       "\n",
       "    .dataframe tbody tr th {\n",
       "        vertical-align: top;\n",
       "    }\n",
       "\n",
       "    .dataframe thead th {\n",
       "        text-align: right;\n",
       "    }\n",
       "</style>\n",
       "<table border=\"1\" class=\"dataframe\">\n",
       "  <thead>\n",
       "    <tr style=\"text-align: right;\">\n",
       "      <th></th>\n",
       "      <th>title</th>\n",
       "      <th>date</th>\n",
       "      <th>venue</th>\n",
       "      <th>price</th>\n",
       "      <th>link</th>\n",
       "    </tr>\n",
       "  </thead>\n",
       "  <tbody>\n",
       "    <tr>\n",
       "      <th>0</th>\n",
       "      <td>Les Clopes + Scimia + Blank\\\\</td>\n",
       "      <td>jeu. 4 janv.</td>\n",
       "      <td>Supersonic</td>\n",
       "      <td>Gratuit</td>\n",
       "      <td>https://dice.fm/event/qp2ny-les-clopes-scimia-...</td>\n",
       "    </tr>\n",
       "    <tr>\n",
       "      <th>1</th>\n",
       "      <td>Plastic Palms + Clamn Dever + Panty Panty</td>\n",
       "      <td>jeu. 4 janv.</td>\n",
       "      <td>L'international</td>\n",
       "      <td>8 €</td>\n",
       "      <td>https://dice.fm/event/xym5a-plastic-palms-clam...</td>\n",
       "    </tr>\n",
       "    <tr>\n",
       "      <th>2</th>\n",
       "      <td>Simone's Carpet + Lavomatic</td>\n",
       "      <td>ven. 5 janv.</td>\n",
       "      <td>Supersonic</td>\n",
       "      <td>Gratuit</td>\n",
       "      <td>https://dice.fm/event/373kp-simones-carpet-lav...</td>\n",
       "    </tr>\n",
       "    <tr>\n",
       "      <th>3</th>\n",
       "      <td>The Wolf You Feed + Gargantura + Cerbera</td>\n",
       "      <td>ven. 5 janv.</td>\n",
       "      <td>L'international</td>\n",
       "      <td>7 €</td>\n",
       "      <td>https://dice.fm/event/v2wkl-the-wolf-you-feed-...</td>\n",
       "    </tr>\n",
       "    <tr>\n",
       "      <th>4</th>\n",
       "      <td>La nuit des chansons tristes</td>\n",
       "      <td>ven. 5 janv.</td>\n",
       "      <td>Anti Club du Cirque électrique</td>\n",
       "      <td>8 €</td>\n",
       "      <td>https://dice.fm/event/v2vvg-la-nuit-des-chanso...</td>\n",
       "    </tr>\n",
       "  </tbody>\n",
       "</table>\n",
       "</div>"
      ],
      "text/plain": [
       "                                       title          date  \\\n",
       "0              Les Clopes + Scimia + Blank\\\\  jeu. 4 janv.   \n",
       "1  Plastic Palms + Clamn Dever + Panty Panty  jeu. 4 janv.   \n",
       "2                Simone's Carpet + Lavomatic  ven. 5 janv.   \n",
       "3   The Wolf You Feed + Gargantura + Cerbera  ven. 5 janv.   \n",
       "4               La nuit des chansons tristes  ven. 5 janv.   \n",
       "\n",
       "                            venue    price  \\\n",
       "0                      Supersonic  Gratuit   \n",
       "1                 L'international      8 €   \n",
       "2                      Supersonic  Gratuit   \n",
       "3                 L'international      7 €   \n",
       "4  Anti Club du Cirque électrique      8 €   \n",
       "\n",
       "                                                link  \n",
       "0  https://dice.fm/event/qp2ny-les-clopes-scimia-...  \n",
       "1  https://dice.fm/event/xym5a-plastic-palms-clam...  \n",
       "2  https://dice.fm/event/373kp-simones-carpet-lav...  \n",
       "3  https://dice.fm/event/v2wkl-the-wolf-you-feed-...  \n",
       "4  https://dice.fm/event/v2vvg-la-nuit-des-chanso...  "
      ]
     },
     "execution_count": 9,
     "metadata": {},
     "output_type": "execute_result"
    }
   ],
   "source": [
    "df_dice.head()"
   ]
  },
  {
   "cell_type": "markdown",
   "id": "56d72f81",
   "metadata": {},
   "source": [
    "## Part 2: Scrap event data for every event whose link was previously collected and stored in df_dice dataframe\n",
    "We get the date and time of the event, the artists, the address of the venue, and the link to the venue's page"
   ]
  },
  {
   "cell_type": "markdown",
   "id": "9bf3d4a6",
   "metadata": {},
   "source": [
    "### Test scraping d'une page d'event\n",
    "A mettre ensuite dans une boucle pour faire tous les événements du df_dice"
   ]
  },
  {
   "cell_type": "code",
   "execution_count": 48,
   "id": "fdd4702f",
   "metadata": {},
   "outputs": [],
   "source": [
    "# Initialize the webdriver (in this example, using Chrome)\n",
    "driver = webdriver.Chrome()\n",
    "\n",
    "# Navigate to your website\n",
    "website_url ='https://dice.fm/event/png2p-rock-around-the-clock-5th-jan-supersonic-paris-tickets' # 'https://dice.fm/event/ar9pv-blue-jay-pythies-dj-set-22nd-dec-le-sub-pigalle-paris-tickets'\n",
    "driver.get(website_url)"
   ]
  },
  {
   "cell_type": "code",
   "execution_count": 49,
   "id": "366b8d55",
   "metadata": {
    "scrolled": true
   },
   "outputs": [],
   "source": [
    "page_source = driver.page_source\n",
    "soup = BeautifulSoup(page_source,'html.parser')"
   ]
  },
  {
   "cell_type": "code",
   "execution_count": 51,
   "id": "47067cac",
   "metadata": {},
   "outputs": [
    {
     "name": "stdout",
     "output_type": "stream",
     "text": [
      "('ven. 5 janv., 19:00', '9 Rue Biscornet, 75012 Paris, France', 'Live Tribute, Live Tribute 2')\n"
     ]
    }
   ],
   "source": [
    "date_and_time_element = soup.find('div', class_='EventDetailsTitle__Date-sc-dfc77feb-2 bITArK')\n",
    "location_element = soup.find('div', class_='EventDetailsVenue__Address-sc-456e9ee2-5 bGzzGO').find('span')\n",
    "\n",
    "\n",
    "    \n",
    "if date_and_time_element:\n",
    "    date_and_time = date_and_time_element.text.strip()\n",
    "else:\n",
    "    date_and_time=np.nan\n",
    "    \n",
    "if location_element:\n",
    "    location = location_element.text.strip()\n",
    "else:\n",
    "    location=np.nan\n",
    "    \n",
    "artists = ', '.join([\n",
    "    artist_title.text.strip()\n",
    "    if (artist_title := lineup_line.find('a', class_='EventDetailsLineup__ArtistTitle-sc-e62c151a-10 jqPGJA'))\n",
    "    else lineup_line.find('div', class_='EventDetailsLineup__SectionTitle-sc-e62c151a-11 drsPyw').text.strip()\n",
    "    for lineup_line in soup.find_all('div', class_='EventDetailsLineup__LineupLine-sc-e62c151a-8 dvIIgU')\n",
    "])\n",
    "    \n",
    "    \n",
    "event_info = (date_and_time, location,artists)\n",
    "print(event_info)"
   ]
  },
  {
   "cell_type": "markdown",
   "id": "10aeb77d",
   "metadata": {},
   "source": [
    "### Scraping des infos de tous les events"
   ]
  },
  {
   "cell_type": "code",
   "execution_count": 10,
   "id": "4f5763d6",
   "metadata": {},
   "outputs": [],
   "source": [
    "import time"
   ]
  },
  {
   "cell_type": "code",
   "execution_count": 19,
   "id": "b8ad8be5",
   "metadata": {},
   "outputs": [
    {
     "name": "stdout",
     "output_type": "stream",
     "text": [
      "Events scraped: 1754/1754"
     ]
    }
   ],
   "source": [
    "df_dice_final = df_dice.copy()\n",
    "\n",
    "df_dice_final[['date_and_time', 'location', 'artists']]=''\n",
    "\n",
    "# Initialize the webdriver (in this example, using Chrome)\n",
    "driver = Chrome() #webdriver.Chrome()\n",
    "\n",
    "nb_rows_df_dice_final=df_dice_final.shape[0]\n",
    "\n",
    "for i in range(nb_rows_df_dice_final):\n",
    "\n",
    "    # Navigate to your website\n",
    "    website_url = df_dice_final['link'].iloc[i]\n",
    "    driver.get(website_url)\n",
    "    \n",
    "    page_source = driver.page_source\n",
    "    soup = BeautifulSoup(page_source,'html.parser')\n",
    "    \n",
    "    date_and_time_element = soup.find('div', class_='EventDetailsTitle__Date-sc-dfc77feb-2 bITArK')\n",
    "    location_element = soup.find('div', class_='EventDetailsVenue__Address-sc-456e9ee2-5 bGzzGO')\n",
    "\n",
    "\n",
    "\n",
    "    if date_and_time_element:\n",
    "        date_and_time = date_and_time_element.text.strip()\n",
    "    else:\n",
    "        date_and_time=np.nan\n",
    "\n",
    "    if location_element:\n",
    "        location_find = location_element.find('span')\n",
    "        \n",
    "        if location_find:\n",
    "            location = location_find.text.strip()\n",
    "        else:\n",
    "            location=np.nan\n",
    "    else:\n",
    "        location=np.nan\n",
    "\n",
    "    artists = ', '.join([\n",
    "        artist_title.text.strip()\n",
    "        if (artist_title := lineup_line.find('a', class_='EventDetailsLineup__ArtistTitle-sc-e62c151a-10 jqPGJA'))\n",
    "        else lineup_line.find('div', class_='EventDetailsLineup__SectionTitle-sc-e62c151a-11 drsPyw').text.strip()\n",
    "        for lineup_line in soup.find_all('div', class_='EventDetailsLineup__LineupLine-sc-e62c151a-8 dvIIgU')\n",
    "    ])\n",
    "\n",
    "    df_dice_final['date_and_time'].iloc[i] = date_and_time\n",
    "    df_dice_final['location'].iloc[i] = location\n",
    "    df_dice_final['artists'].iloc[i] = artists\n",
    "    \n",
    "    print(f\"\\rEvents scraped: {i+1}/{nb_rows_df_dice_final}\", end=\"\")"
   ]
  },
  {
   "cell_type": "code",
   "execution_count": 20,
   "id": "827be29b",
   "metadata": {
    "scrolled": false
   },
   "outputs": [
    {
     "data": {
      "text/html": [
       "<div>\n",
       "<style scoped>\n",
       "    .dataframe tbody tr th:only-of-type {\n",
       "        vertical-align: middle;\n",
       "    }\n",
       "\n",
       "    .dataframe tbody tr th {\n",
       "        vertical-align: top;\n",
       "    }\n",
       "\n",
       "    .dataframe thead th {\n",
       "        text-align: right;\n",
       "    }\n",
       "</style>\n",
       "<table border=\"1\" class=\"dataframe\">\n",
       "  <thead>\n",
       "    <tr style=\"text-align: right;\">\n",
       "      <th></th>\n",
       "      <th>title</th>\n",
       "      <th>date</th>\n",
       "      <th>venue</th>\n",
       "      <th>price</th>\n",
       "      <th>link</th>\n",
       "      <th>date_and_time</th>\n",
       "      <th>location</th>\n",
       "      <th>artists</th>\n",
       "    </tr>\n",
       "  </thead>\n",
       "  <tbody>\n",
       "    <tr>\n",
       "      <th>0</th>\n",
       "      <td>Les Clopes + Scimia + Blank\\\\</td>\n",
       "      <td>jeu. 4 janv.</td>\n",
       "      <td>Supersonic</td>\n",
       "      <td>Gratuit</td>\n",
       "      <td>https://dice.fm/event/qp2ny-les-clopes-scimia-...</td>\n",
       "      <td>NaN</td>\n",
       "      <td>NaN</td>\n",
       "      <td></td>\n",
       "    </tr>\n",
       "    <tr>\n",
       "      <th>1</th>\n",
       "      <td>Plastic Palms + Clamn Dever + Panty Panty</td>\n",
       "      <td>jeu. 4 janv.</td>\n",
       "      <td>L'international</td>\n",
       "      <td>8 €</td>\n",
       "      <td>https://dice.fm/event/xym5a-plastic-palms-clam...</td>\n",
       "      <td>jeu. 4 janv., 19:00</td>\n",
       "      <td>5 Rue Moret, 75011 Paris, France</td>\n",
       "      <td>Plastic Palms, Clamn Dever, PanTy PanTy</td>\n",
       "    </tr>\n",
       "    <tr>\n",
       "      <th>2</th>\n",
       "      <td>Simone's Carpet + Lavomatic</td>\n",
       "      <td>ven. 5 janv.</td>\n",
       "      <td>Supersonic</td>\n",
       "      <td>Gratuit</td>\n",
       "      <td>https://dice.fm/event/373kp-simones-carpet-lav...</td>\n",
       "      <td>ven. 5 janv., 19:00</td>\n",
       "      <td>9 Rue Biscornet, 75012 Paris, France</td>\n",
       "      <td>Lavomatic, Simone's Carpet</td>\n",
       "    </tr>\n",
       "    <tr>\n",
       "      <th>3</th>\n",
       "      <td>The Wolf You Feed + Gargantura + Cerbera</td>\n",
       "      <td>ven. 5 janv.</td>\n",
       "      <td>L'international</td>\n",
       "      <td>7 €</td>\n",
       "      <td>https://dice.fm/event/v2wkl-the-wolf-you-feed-...</td>\n",
       "      <td>ven. 5 janv., 19:00</td>\n",
       "      <td>5 Rue Moret, 75011 Paris, France</td>\n",
       "      <td>The Wolf You Feed, Cerbera, Gargantura</td>\n",
       "    </tr>\n",
       "    <tr>\n",
       "      <th>4</th>\n",
       "      <td>La nuit des chansons tristes</td>\n",
       "      <td>ven. 5 janv.</td>\n",
       "      <td>Anti Club du Cirque électrique</td>\n",
       "      <td>8 €</td>\n",
       "      <td>https://dice.fm/event/v2vvg-la-nuit-des-chanso...</td>\n",
       "      <td>ven. 5 janv., 19:30</td>\n",
       "      <td>Place Du Maquis Du Vercors, 75020 Paris, France</td>\n",
       "      <td>Nutsz, jakeVII, sang9</td>\n",
       "    </tr>\n",
       "    <tr>\n",
       "      <th>5</th>\n",
       "      <td>Laurie Xhaard + Thomas Baignères</td>\n",
       "      <td>ven. 5 janv.</td>\n",
       "      <td>POPUP!</td>\n",
       "      <td>Gratuit</td>\n",
       "      <td>https://dice.fm/event/don3q-laurie-xhaard-thom...</td>\n",
       "      <td>ven. 5 janv., 20:00</td>\n",
       "      <td>14 Rue Abel, 75012 Paris, France</td>\n",
       "      <td>Thomas Baignères</td>\n",
       "    </tr>\n",
       "    <tr>\n",
       "      <th>6</th>\n",
       "      <td>33 Dogs, I Scream, Luciano &amp; The Clouds, DJ Set</td>\n",
       "      <td>ven. 5 janv.</td>\n",
       "      <td>Le Sub Pigalle</td>\n",
       "      <td>11,80 €</td>\n",
       "      <td>https://dice.fm/event/mglev-33-dogs-i-scream-l...</td>\n",
       "      <td>ven. 5 janv., 21:00</td>\n",
       "      <td>3 Place De Clichy, 75008 Paris, France</td>\n",
       "      <td>33 Dogs, I scream, Luciano &amp; The Clouds</td>\n",
       "    </tr>\n",
       "    <tr>\n",
       "      <th>7</th>\n",
       "      <td>Gin Sonic</td>\n",
       "      <td>ven. 5 janv.</td>\n",
       "      <td>POPUP!</td>\n",
       "      <td>Gratuit</td>\n",
       "      <td>https://dice.fm/event/7wmp9-gin-sonic-5th-jan-...</td>\n",
       "      <td>ven. 5 janv., 23:00</td>\n",
       "      <td>14 Rue Abel, 75012 Paris, France</td>\n",
       "      <td></td>\n",
       "    </tr>\n",
       "    <tr>\n",
       "      <th>8</th>\n",
       "      <td>Caribbean groove dur les toits de paris</td>\n",
       "      <td>ven. 5 janv.</td>\n",
       "      <td>Tout Le Monde en Parle</td>\n",
       "      <td>À partir de Gratuit</td>\n",
       "      <td>https://dice.fm/event/lkoql-caribbean-groove-d...</td>\n",
       "      <td>ven. 5 janv., 23:00</td>\n",
       "      <td>4 Rue Du Départ, 75015 Paris, France</td>\n",
       "      <td>Fermeture, djsprinter</td>\n",
       "    </tr>\n",
       "    <tr>\n",
       "      <th>9</th>\n",
       "      <td>Pam Risourié + Fishtalk + Scarabs</td>\n",
       "      <td>sam. 6 janv.</td>\n",
       "      <td>Supersonic</td>\n",
       "      <td>Gratuit</td>\n",
       "      <td>https://dice.fm/event/56re8-pam-risouri-fishta...</td>\n",
       "      <td>sam. 6 janv., 19:00</td>\n",
       "      <td>9 Rue Biscornet, 75012 Paris, France</td>\n",
       "      <td>Scarabs, Fishtalk, Pam Risourié</td>\n",
       "    </tr>\n",
       "  </tbody>\n",
       "</table>\n",
       "</div>"
      ],
      "text/plain": [
       "                                             title          date  \\\n",
       "0                    Les Clopes + Scimia + Blank\\\\  jeu. 4 janv.   \n",
       "1        Plastic Palms + Clamn Dever + Panty Panty  jeu. 4 janv.   \n",
       "2                      Simone's Carpet + Lavomatic  ven. 5 janv.   \n",
       "3         The Wolf You Feed + Gargantura + Cerbera  ven. 5 janv.   \n",
       "4                     La nuit des chansons tristes  ven. 5 janv.   \n",
       "5                 Laurie Xhaard + Thomas Baignères  ven. 5 janv.   \n",
       "6  33 Dogs, I Scream, Luciano & The Clouds, DJ Set  ven. 5 janv.   \n",
       "7                                        Gin Sonic  ven. 5 janv.   \n",
       "8          Caribbean groove dur les toits de paris  ven. 5 janv.   \n",
       "9                Pam Risourié + Fishtalk + Scarabs  sam. 6 janv.   \n",
       "\n",
       "                            venue                price  \\\n",
       "0                      Supersonic              Gratuit   \n",
       "1                 L'international                  8 €   \n",
       "2                      Supersonic              Gratuit   \n",
       "3                 L'international                  7 €   \n",
       "4  Anti Club du Cirque électrique                  8 €   \n",
       "5                          POPUP!              Gratuit   \n",
       "6                  Le Sub Pigalle              11,80 €   \n",
       "7                          POPUP!              Gratuit   \n",
       "8          Tout Le Monde en Parle  À partir de Gratuit   \n",
       "9                      Supersonic              Gratuit   \n",
       "\n",
       "                                                link        date_and_time  \\\n",
       "0  https://dice.fm/event/qp2ny-les-clopes-scimia-...                  NaN   \n",
       "1  https://dice.fm/event/xym5a-plastic-palms-clam...  jeu. 4 janv., 19:00   \n",
       "2  https://dice.fm/event/373kp-simones-carpet-lav...  ven. 5 janv., 19:00   \n",
       "3  https://dice.fm/event/v2wkl-the-wolf-you-feed-...  ven. 5 janv., 19:00   \n",
       "4  https://dice.fm/event/v2vvg-la-nuit-des-chanso...  ven. 5 janv., 19:30   \n",
       "5  https://dice.fm/event/don3q-laurie-xhaard-thom...  ven. 5 janv., 20:00   \n",
       "6  https://dice.fm/event/mglev-33-dogs-i-scream-l...  ven. 5 janv., 21:00   \n",
       "7  https://dice.fm/event/7wmp9-gin-sonic-5th-jan-...  ven. 5 janv., 23:00   \n",
       "8  https://dice.fm/event/lkoql-caribbean-groove-d...  ven. 5 janv., 23:00   \n",
       "9  https://dice.fm/event/56re8-pam-risouri-fishta...  sam. 6 janv., 19:00   \n",
       "\n",
       "                                          location  \\\n",
       "0                                              NaN   \n",
       "1                 5 Rue Moret, 75011 Paris, France   \n",
       "2             9 Rue Biscornet, 75012 Paris, France   \n",
       "3                 5 Rue Moret, 75011 Paris, France   \n",
       "4  Place Du Maquis Du Vercors, 75020 Paris, France   \n",
       "5                 14 Rue Abel, 75012 Paris, France   \n",
       "6           3 Place De Clichy, 75008 Paris, France   \n",
       "7                 14 Rue Abel, 75012 Paris, France   \n",
       "8             4 Rue Du Départ, 75015 Paris, France   \n",
       "9             9 Rue Biscornet, 75012 Paris, France   \n",
       "\n",
       "                                   artists  \n",
       "0                                           \n",
       "1  Plastic Palms, Clamn Dever, PanTy PanTy  \n",
       "2               Lavomatic, Simone's Carpet  \n",
       "3   The Wolf You Feed, Cerbera, Gargantura  \n",
       "4                    Nutsz, jakeVII, sang9  \n",
       "5                         Thomas Baignères  \n",
       "6  33 Dogs, I scream, Luciano & The Clouds  \n",
       "7                                           \n",
       "8                    Fermeture, djsprinter  \n",
       "9          Scarabs, Fishtalk, Pam Risourié  "
      ]
     },
     "execution_count": 20,
     "metadata": {},
     "output_type": "execute_result"
    }
   ],
   "source": [
    "df_dice_final.head(10)"
   ]
  },
  {
   "cell_type": "code",
   "execution_count": 21,
   "id": "dd1c16b7",
   "metadata": {},
   "outputs": [],
   "source": [
    "# df_dice_final.to_csv('df_dice_final-WebScraping_S9.csv', index=False)"
   ]
  },
  {
   "cell_type": "code",
   "execution_count": 23,
   "id": "0d35f44a",
   "metadata": {},
   "outputs": [
    {
     "data": {
      "text/plain": [
       "(1754, 8)"
      ]
     },
     "execution_count": 23,
     "metadata": {},
     "output_type": "execute_result"
    }
   ],
   "source": [
    "df_dice_final.shape"
   ]
  },
  {
   "cell_type": "markdown",
   "id": "48046132",
   "metadata": {},
   "source": [
    "## Part 3: Quick data inspection"
   ]
  },
  {
   "cell_type": "code",
   "execution_count": 22,
   "id": "4a48165b",
   "metadata": {},
   "outputs": [
    {
     "data": {
      "text/plain": [
       "title            0\n",
       "date             0\n",
       "venue            0\n",
       "price            5\n",
       "link             0\n",
       "date_and_time    1\n",
       "location         1\n",
       "artists          0\n",
       "dtype: int64"
      ]
     },
     "execution_count": 22,
     "metadata": {},
     "output_type": "execute_result"
    }
   ],
   "source": [
    "df_dice_final.isnull().sum()"
   ]
  },
  {
   "cell_type": "code",
   "execution_count": 26,
   "id": "67f9cbda",
   "metadata": {},
   "outputs": [
    {
     "data": {
      "text/plain": [
       "(469, 8)"
      ]
     },
     "execution_count": 26,
     "metadata": {},
     "output_type": "execute_result"
    }
   ],
   "source": [
    "df_dice_final[df_dice_final['artists']==''].shape"
   ]
  }
 ],
 "metadata": {
  "kernelspec": {
   "display_name": "Python 3 (ipykernel)",
   "language": "python",
   "name": "python3"
  },
  "language_info": {
   "codemirror_mode": {
    "name": "ipython",
    "version": 3
   },
   "file_extension": ".py",
   "mimetype": "text/x-python",
   "name": "python",
   "nbconvert_exporter": "python",
   "pygments_lexer": "ipython3",
   "version": "3.8.12"
  }
 },
 "nbformat": 4,
 "nbformat_minor": 5
}
